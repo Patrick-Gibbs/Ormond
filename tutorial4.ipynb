{
 "cells": [
  {
   "cell_type": "markdown",
   "metadata": {},
   "source": [
    "<h3> Problem 1: quick fire exam practice </h3>\n",
    "\n",
    "Evaluate the following:"
   ]
  },
  {
   "cell_type": "code",
   "execution_count": null,
   "metadata": {},
   "outputs": [],
   "source": [
    "animals = ['cat', 'dog', 'cow', 'pig']\n",
    "\n",
    "while animals:\n",
    "    animal = animals.pop(-1)\n",
    "    print(animal)\n",
    "\n"
   ]
  },
  {
   "cell_type": "code",
   "execution_count": null,
   "metadata": {},
   "outputs": [],
   "source": [
    "# 1\n",
    "animals = ['cat', 'dog', 'cow', 'pig']\n",
    "\n",
    "while animals:\n",
    "    animal = animals.pop()\n",
    "    print(animal)\n",
    "\n",
    "# 2 \n",
    "for i in range(1, 10):\n",
    "    if i % 2 == 0:\n",
    "        print(i, \"a\")\n",
    "    else:\n",
    "        print(i, \"b\")\n",
    "\n",
    "# 3\n",
    "for i in range(1, 4):\n",
    "    for j in range(1, 3):\n",
    "        print(i, j)"
   ]
  },
  {
   "cell_type": "markdown",
   "metadata": {},
   "source": [
    "<h3> Problem 2: extra practice </h3>\n",
    "\n",
    "(a) Write a for loop to calculate the sum of all numbers from 1 to 100\n",
    "\n",
    "\n",
    "(b) Write a for loop that counts the number of vowels in a string. For example, for the string \"hello world\", the loop should count 3 vowels.\n",
    "\n",
    "(c) Write a for loop that reverses a given string. For example, the string \"Python\" should be reversed to \"nohtyP\".\n",
    "\n",
    "(d) Given a 2D matrix, use a nested for loop to compute the transpose of the matrix. For example, the transpose of [[1, 2], [3, 4], [5, 6]] is [[1, 3, 5], [2, 4, 6]]."
   ]
  },
  {
   "cell_type": "code",
   "execution_count": null,
   "metadata": {},
   "outputs": [],
   "source": [
    "# solutions\n",
    "\n",
    "# a \n",
    "total = 0\n",
    "for i in range(1,101):\n",
    "    total += i\n",
    "print(total)\n",
    "\n",
    "# or\n",
    "print(sum(list(range(1,101))))\n",
    "\n",
    "# b\n",
    "def num_vowels(word):\n",
    "    total = 0\n",
    "    for letter in word:\n",
    "        if letter.lower() in 'aeiou':\n",
    "            total += 1\n",
    "    return total\n",
    "\n",
    "# c \n",
    "def backwords(word):\n",
    "    back_word = []\n",
    "    for i in range(len(word)-1, -1, -1):\n",
    "        back_word.append(word[i])\n",
    "    return ''.join(back_word)\n",
    "    \n",
    "# d \n",
    "def transpose(matrix):\n",
    "    \"\"\"\n",
    "    assume matrix is a list of lists, where each list is the same length\n",
    "    \"\"\"\n",
    "    transpose_matrix = []\n",
    "    for i in range(len(matrix)):\n",
    "        new_col = []\n",
    "        for j in range(len(matrix[i])):\n",
    "            new_col.append(matrix[i][j])\n",
    "        transpose_matrix.append(new_col)\n",
    "    return transpose_matrix\n",
    "\n",
    "\n",
    "transpose(([1,2,3],[4,5,6]))"
   ]
  }
 ],
 "metadata": {
  "kernelspec": {
   "display_name": "Python 3",
   "language": "python",
   "name": "python3"
  },
  "language_info": {
   "codemirror_mode": {
    "name": "ipython",
    "version": 3
   },
   "file_extension": ".py",
   "mimetype": "text/x-python",
   "name": "python",
   "nbconvert_exporter": "python",
   "pygments_lexer": "ipython3",
   "version": "3.10.9"
  }
 },
 "nbformat": 4,
 "nbformat_minor": 2
}
