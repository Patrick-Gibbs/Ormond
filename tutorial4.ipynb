{
 "cells": [
  {
   "cell_type": "markdown",
   "metadata": {},
   "source": [
    "<h3> Problem 1: quick fire exam practice </h3>\n",
    "\n",
    "Evaluate the following:"
   ]
  },
  {
   "cell_type": "code",
   "execution_count": null,
   "metadata": {},
   "outputs": [],
   "source": [
    "# 1\n",
    "animals = ['cat', 'dog', 'cow', 'pig']\n",
    "\n",
    "while animals:\n",
    "    animal = animals.pop()\n",
    "    print(animal)\n",
    "\n",
    "# 2 \n",
    "for i in range(1, 10):\n",
    "    if i % 2 == 0:\n",
    "        print(i, \"a\")\n",
    "    else:\n",
    "        print(i, \"b\")\n",
    "\n",
    "# 3\n",
    "for i in range(1, 4):\n",
    "    for j in range(1, 3):\n",
    "        print(i, j)"
   ]
  },
  {
   "cell_type": "markdown",
   "metadata": {},
   "source": [
    "<h3> Problem 2: extra practice </h3>\n",
    "\n",
    "(a) Write a for loop to calculate the sum of all numbers from 1 to 100\n",
    "\n",
    "\n",
    "(b) Write a for loop that counts the number of vowels in a string. For example, for the string \"hello world\", the loop should count 3 vowels.\n",
    "\n",
    "(c) Write a for loop that reverses a given string. For example, the string \"Python\" should be reversed to \"nohtyP\".\n",
    "\n",
    "(d) Given a 2D matrix, use a nested for loop to compute the transpose of the matrix. For example, the transpose of [[1, 2], [3, 4], [5, 6]] is [[1, 3, 5], [2, 4, 6]]."
   ]
  }
 ],
 "metadata": {
  "language_info": {
   "name": "python"
  }
 },
 "nbformat": 4,
 "nbformat_minor": 2
}
