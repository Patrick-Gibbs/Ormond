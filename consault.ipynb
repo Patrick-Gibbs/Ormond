{
 "cells": [
  {
   "cell_type": "code",
   "execution_count": 23,
   "metadata": {},
   "outputs": [
    {
     "data": {
      "text/plain": [
       "{'TheBadBeys': {'mower2': 150},\n",
       " 'colas': {'egg': 7, 'water': 2, 'mower1': 119.5}}"
      ]
     },
     "execution_count": 23,
     "metadata": {},
     "output_type": "execute_result"
    }
   ],
   "source": [
    "my_dict = {'TheBadBeys': {'mower2': 150, 'markbook_pro': 1999}, \"colas\": {'egg': 7, 'water': 2, 'mower1': 119.5}}\n",
    "\n",
    "my_dict[\"TheBadBeys\"].pop(\"markbook_pro\")\n",
    "my_dict"
   ]
  },
  {
   "cell_type": "code",
   "execution_count": 6,
   "metadata": {},
   "outputs": [
    {
     "name": "stdout",
     "output_type": "stream",
     "text": [
      "TheBadBeys\n",
      "colas\n"
     ]
    }
   ],
   "source": [
    "for key in my_dict.keys():\n",
    "    print(key)"
   ]
  },
  {
   "cell_type": "code",
   "execution_count": 7,
   "metadata": {},
   "outputs": [
    {
     "name": "stdout",
     "output_type": "stream",
     "text": [
      "{'mower2': 150, 'markbook_pro': 1999}\n",
      "{'egg': 7, 'water': 2, 'mower1': 119.5}\n"
     ]
    }
   ],
   "source": [
    "for key in my_dict.keys():\n",
    "    print(my_dict[key])"
   ]
  },
  {
   "cell_type": "code",
   "execution_count": 9,
   "metadata": {},
   "outputs": [
    {
     "name": "stdout",
     "output_type": "stream",
     "text": [
      "TheBadBeys {'mower2': 150, 'markbook_pro': 1999}\n",
      "colas {'egg': 7, 'water': 2, 'mower1': 119.5}\n",
      "abc 1\n"
     ]
    }
   ],
   "source": [
    "for k,v in my_dict.items():\n",
    "    print(k,v)"
   ]
  },
  {
   "cell_type": "code",
   "execution_count": 12,
   "metadata": {},
   "outputs": [
    {
     "data": {
      "text/plain": [
       "150"
      ]
     },
     "execution_count": 12,
     "metadata": {},
     "output_type": "execute_result"
    }
   ],
   "source": [
    "my_dict['TheBadBeys']['mower2']"
   ]
  },
  {
   "cell_type": "code",
   "execution_count": null,
   "metadata": {},
   "outputs": [],
   "source": []
  },
  {
   "cell_type": "code",
   "execution_count": 33,
   "metadata": {},
   "outputs": [
    {
     "name": "stdout",
     "output_type": "stream",
     "text": [
      "{'TheBadBeys': {'mower2': 150}, 'colas': {'water': 2}}\n"
     ]
    }
   ],
   "source": [
    "my_dict = {'TheBadBeys': {'mower2': 150, 'markbook_pro': 1999}, \"colas\": {'egg': 7, 'water': 2, 'mower1': 119.5}}\n",
    "\n",
    "keep = ['mower2', 'water']\n",
    "\n",
    "for k in my_dict.keys():\n",
    "    copy_of_my_keys = list(my_dict[k].keys())\n",
    "    for elem in copy_of_my_keys:\n",
    "        if elem not in keep:\n",
    "            my_dict[k].pop(elem)\n",
    "            \n",
    "print(my_dict)"
   ]
  },
  {
   "cell_type": "code",
   "execution_count": 34,
   "metadata": {},
   "outputs": [
    {
     "name": "stdout",
     "output_type": "stream",
     "text": [
      "{1: 3, 3: 3, 4: 2, 5: 2, 6: 3, 7: 2}\n"
     ]
    }
   ],
   "source": [
    "my_numbers = [1,1,3,4,5,6,6,6,7,7,4,3,1,3,5]\n",
    "# {1: 2, 3: 3, ....}\n",
    "counts = {}\n",
    "\n",
    "\n",
    "for num in my_numbers:\n",
    "    if num in counts.keys():\n",
    "        counts[num] += 1\n",
    "    else:\n",
    "        counts[num] = 1\n",
    "\n",
    "print(counts)"
   ]
  },
  {
   "cell_type": "code",
   "execution_count": 32,
   "metadata": {},
   "outputs": [
    {
     "data": {
      "text/plain": [
       "dict_keys(['TheBadBeys', 'colas'])"
      ]
     },
     "execution_count": 32,
     "metadata": {},
     "output_type": "execute_result"
    }
   ],
   "source": [
    "my_dict = {'TheBadBeys': {'mower2': 150, 'markbook_pro': 1999}, \"colas\": {'egg': 7, 'water': 2, 'mower1': 119.5}}\n",
    "my_dict.keys()"
   ]
  },
  {
   "cell_type": "code",
   "execution_count": 48,
   "metadata": {},
   "outputs": [],
   "source": [
    "\n",
    "person_1 = {\n",
    "    \"name\": \"Alice\",\n",
    "    \"age\": 30,\n",
    "    \"address\": {\n",
    "        \"street\": \"123 Maple Street\",\n",
    "        \"city\": \"Springfield\",\n",
    "        \"state\": \"IL\",\n",
    "        \"postal_code\": \"62701\"\n",
    "    },\n",
    "    \"contact\": {\n",
    "        \"email\": \"alice@example.com\",\n",
    "        \"phone\": \"555-1234\"\n",
    "    },\n",
    "}\n",
    "\n",
    "person_2 = {\n",
    "    \"name\": \"Bob\",\n",
    "    \"age\": 35,\n",
    "    \"address\": {\n",
    "        \"street\": \"456 Oak Avenue\",\n",
    "        \"city\": \"Metropolis\",\n",
    "        \"state\": \"NY\",\n",
    "        \"postal_code\": \"10001\"\n",
    "    },\n",
    "    \"contact\": {\n",
    "        \"email\": \"bob@example.com\",\n",
    "        \"phone\": \"555-5678\"\n",
    "    },\n",
    "}\n",
    "\n",
    "person_3 = {\n",
    "    \"name\": \"John\",\n",
    "    \"age\": 35,\n",
    "    \"address\": {\n",
    "        \"street\": \"456 Oak Avenue\",\n",
    "        \"city\": \"Metropolis\",\n",
    "        \"state\": \"VIC\",\n",
    "        \"postal_code\": \"10001\"\n",
    "    },\n",
    "    \"contact\": {\n",
    "        \"email\": \"bob@example.com\",\n",
    "        \"phone\": \"555-5678\"\n",
    "    },\n",
    "}\n",
    "\n",
    "person_4 = {\n",
    "    \"name\": \"Patrick\",\n",
    "    \"age\": 46,\n",
    "    \"address\": {\n",
    "        \"street\": \"456 Oak Avenue\",\n",
    "        \"city\": \"Metropolis\",\n",
    "        \"state\": \"VIC\",\n",
    "        \"postal_code\": \"10001\"\n",
    "    },\n",
    "    \"contact\": {\n",
    "        \"email\": \"bob@example.com\",\n",
    "        \"phone\": \"555-5678\"\n",
    "    },\n",
    "}\n",
    "\n",
    "\n"
   ]
  },
  {
   "cell_type": "code",
   "execution_count": null,
   "metadata": {},
   "outputs": [],
   "source": [
    "# get all of the people that \n",
    "\n",
    "people = [person_1, person_2, person_3, person_4]\n",
    "states = []\n",
    "\n",
    "for person in people:\n",
    "    if person[\"address\"][\"state\"] == \"VIC\":\n",
    "        print(person['name'])"
   ]
  },
  {
   "cell_type": "code",
   "execution_count": 47,
   "metadata": {},
   "outputs": [
    {
     "name": "stdout",
     "output_type": "stream",
     "text": [
      "46\n",
      "Patrick\n"
     ]
    }
   ],
   "source": [
    "# find the oldest person\n",
    "ages = []\n",
    "for person in people:\n",
    "    ages.append(person[\"age\"])\n",
    "max_age = max(ages)\n",
    "print(max_age)\n",
    "\n",
    "for person in people:\n",
    "    if person[\"age\"] == max_age:\n",
    "        print(person[\"name\"])"
   ]
  }
 ],
 "metadata": {
  "kernelspec": {
   "display_name": "Python 3",
   "language": "python",
   "name": "python3"
  },
  "language_info": {
   "codemirror_mode": {
    "name": "ipython",
    "version": 3
   },
   "file_extension": ".py",
   "mimetype": "text/x-python",
   "name": "python",
   "nbconvert_exporter": "python",
   "pygments_lexer": "ipython3",
   "version": "3.10.9"
  }
 },
 "nbformat": 4,
 "nbformat_minor": 2
}
