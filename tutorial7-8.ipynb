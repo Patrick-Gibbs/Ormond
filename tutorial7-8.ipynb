{
 "cells": [
  {
   "cell_type": "markdown",
   "metadata": {},
   "source": [
    "I was at the [Heidelburg Laurate Form](https://heidelberg-laureate-forum.org/) in Germany last week. Its an awsome conference.  If continue to compsci research you could even go!\n",
    "If you interested you can see two of the talks I found very interesting here:\n",
    "- About deep learning: https://youtu.be/K0gavpe0uDo?si=Itzsdo9xGiTQj9QU\n",
    "- About the future of AI: https://www.youtube.com/watch?v=CimIJla2fYY\n"
   ]
  },
  {
   "cell_type": "markdown",
   "metadata": {},
   "source": [
    "<h3> Problem 1: The power of using files</h3>\n",
    "\n",
    "From my github, download 'all_english_words.txt' and place it in the directory next to your code\n",
    "\n",
    "(a) Write a python program to find:\n",
    "- The longest word\n",
    "- The word with the most vowels\n",
    "- The shortest word\n",
    "\n",
    "(b) write a csv file that has the following infomation:\n",
    "- column one: each letter a-z\n",
    "- column two: letter proportion is the number of time a letter occurs in a word divided by the length of the word, this column should the word with the word with the highest letter proportion, for the corrosponding letter in in column one.\n",
    "- column three: the number of words in the english langueage that contain that letter at least once \n",
    "\n",
    "(c) \"Target\" is a word game commonly found in newpapers. e.g. https://www.smh.com.au/national/target-time-and-superquiz-tuesday-may-11-20210510-p57qmb.html. Briefly users are given a grid such as the following:\n",
    "\n",
    "```\n",
    "-------------\n",
    "| O | P | A |\n",
    "| E | B | E |\n",
    "| R | T | R |\n",
    "-------------\n",
    "```\n",
    "Users must:\n",
    "- Find words of four letters or more. \n",
    "- Every word must include the centre letter and each letter is used once only. \n",
    "- Find at least one nine-letter word. No colloquial or foreign words, capitalised nouns, apostrophes or hyphens. \n",
    "- No verbs or plural words ending in \"s\".\n",
    "\n",
    "Write a python program to solve target"
   ]
  },
  {
   "cell_type": "markdown",
   "metadata": {},
   "source": [
    "<h3> Problem 2: Manipulating Dictionaries </h3>\n",
    "\n",
    "A json file is a text file that is used to organise data structures. Take a look at `departments.json`.\n",
    "\n",
    "Download `departments.json` and load it in with the following python syntax\n",
    "\n",
    "```\n",
    "import json\n",
    "\n",
    "# Load the JSON file\n",
    "with open('employees.json', 'r') as file:\n",
    "    data = json.load(file)\n",
    "```\n",
    "\n",
    "We can now see we have downloaded a massive dictionary.\n",
    "\n",
    "\n",
    "\n",
    "Write a python program to find:\n",
    "- The number of departments in the organsation\n",
    "- The number of employees in each department, printing out as a dictionary `{department name: # employees}`\n",
    "- The oldest / youngest employee\n",
    "- A list of employee sorted in the numerical order of their id\n",
    "- If you have done all these and are board make up more exercises for your self \n",
    "\n",
    "\n"
   ]
  },
  {
   "cell_type": "markdown",
   "metadata": {},
   "source": [
    "Problem 3: Recursion Introduction\n",
    "\n",
    "(1) Write a function to generate fibinanchi numbers using recursion.\n",
    "\n",
    "(2) Imagen a stair case with 50 steps. You can climb the steps in jumps of 1 step or 2 steps. Using recursion find how many ways there are to climb to the top of the the stair case. That is how many different combinations of 1/2 steps are there to get to the top "
   ]
  }
 ],
 "metadata": {
  "kernelspec": {
   "display_name": "Python 3",
   "language": "python",
   "name": "python3"
  },
  "language_info": {
   "name": "python",
   "version": "3.undefined.undefined"
  }
 },
 "nbformat": 4,
 "nbformat_minor": 2
}
