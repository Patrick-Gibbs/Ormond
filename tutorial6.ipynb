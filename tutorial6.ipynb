{
 "cells": [
  {
   "cell_type": "markdown",
   "metadata": {},
   "source": [
    "<h3> Problem 1: quick fire exam practice </h3>\n",
    "\n",
    "Evaluate the following (in pairs):"
   ]
  },
  {
   "cell_type": "code",
   "execution_count": null,
   "metadata": {},
   "outputs": [],
   "source": [
    "# a\n",
    "strings = ['abc', 'efg', 'hij']\n",
    "new_strings = [e[::-1] for e in strings]\n",
    "\n",
    "# b\n",
    "cubes = [x**3 for x in range(10)]\n",
    "\n",
    "# c\n",
    "nums = [x for x in range(30) if x % 2 == 0 and x % 3 == 0]\n",
    "\n",
    "# d\n",
    "{k: list(range(k)) for k in range(10)}\n",
    "\n",
    "# e\n",
    "ascii_codes = list(map(int, 'abcde'))\n",
    "\n",
    "# f\n",
    "def add_one(x):\n",
    "    return x+1\n",
    "\n",
    "numbers = [2,5,3,2]\n",
    "numbers1 = list(map(add_one), numbers)\n",
    "\n",
    "# g\n",
    "numbers2 = [lambda x: x+2, numbers]\n",
    "\n",
    "# h \n",
    "def mystery(number):\n",
    "    if number % 2 == 0:\n",
    "          return True  \n",
    "    return False\n",
    "\n",
    "numbers = [1, 2, 3, 4, 5, 6, 7, 8, 9, 10]\n",
    "special_numbers = list(filter(mystery, numbers))\n",
    "\n",
    "\n",
    "### extension questions ####\n",
    "\n",
    "# i\n",
    "digits = [int(char) if char.isdigit() else \"-\" for char in \"123abc456def\"]\n",
    "\n",
    "# j\n",
    "[(x, y) for x in [1,2,3] for y in [3,1,4] if x != y]\n",
    "\n",
    "# k\n",
    "matrix = [[1, 2, 3], [4, 5, 6], [7, 8, 9]]\n",
    "flattened = [num for row in matrix for num in row]\n",
    "\n",
    "# l\n",
    "keys = [1,2,3]\n",
    "values = [1,4,9]\n",
    "my_dict = {k:v for k,v in zip(keys, values)}"
   ]
  }
 ],
 "metadata": {
  "language_info": {
   "name": "python"
  }
 },
 "nbformat": 4,
 "nbformat_minor": 2
}
