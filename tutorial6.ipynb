{
 "cells": [
  {
   "cell_type": "markdown",
   "metadata": {},
   "source": [
    "## Common Mistakes on Assigmnet"
   ]
  },
  {
   "cell_type": "markdown",
   "metadata": {},
   "source": [
    "All functions need a doc string. Write a statement of what the function does at a high level, as well as the inputs / outputs."
   ]
  },
  {
   "cell_type": "code",
   "execution_count": null,
   "metadata": {},
   "outputs": [],
   "source": [
    "# all functions need a doc string.\n",
    "def pretty_print(board):\n",
    "    \"\"\"\n",
    "    Takes a board, and prints it out in human readable format\n",
    "    \n",
    "    inputs:\n",
    "        board list(list(str)): a representation of the game board\n",
    "    returns:\n",
    "        None\n",
    "    \"\"\""
   ]
  },
  {
   "cell_type": "markdown",
   "metadata": {},
   "source": [
    "Doc strings must use \"\"\" \"\"\""
   ]
  },
  {
   "cell_type": "code",
   "execution_count": null,
   "metadata": {},
   "outputs": [],
   "source": [
    "# wrong (using #)\n",
    "def pretty_print(board):\n",
    "    # Takes a board, and prints it out in human readable format\n",
    "    # inputs:\n",
    "    #   board list(list(str)): a representation of the game board\n",
    "    # returns:\n",
    "    #    None\n",
    "    ..."
   ]
  },
  {
   "cell_type": "code",
   "execution_count": null,
   "metadata": {},
   "outputs": [],
   "source": [
    "# wrong (doc string on top)\n",
    "\"\"\"\n",
    "Takes a board, and prints it out in human readable format\n",
    "\n",
    "inputs:\n",
    "    board list(list(str)): a representation of the game board\n",
    "returns:\n",
    "    None\n",
    "\"\"\"\n",
    "def pretty_print(board):\n",
    "    ..."
   ]
  },
  {
   "cell_type": "markdown",
   "metadata": {},
   "source": [
    "Comments under code they describe"
   ]
  },
  {
   "cell_type": "code",
   "execution_count": null,
   "metadata": {},
   "outputs": [],
   "source": [
    "# wrong, comments should go on top\n",
    "COL_WIDTH = 3\n",
    "def pretty_print(board):\n",
    "    \"\"\" doc string \"\"\"\n",
    "\n",
    "    print('   ', end='')\n",
    "    for i in range(len(board[0])):\n",
    "        print(f'{i:<{COL_WIDTH}}', end='')\n",
    "    # print the first line (the header line)\n",
    "\n",
    "    print('   ' + '-' * (len(board[0]) * COL_WIDTH))\n",
    "    # print the second line, which consists of \"-\"\n"
   ]
  },
  {
   "cell_type": "markdown",
   "metadata": {},
   "source": [
    "Comments to the right of code they describe"
   ]
  },
  {
   "cell_type": "code",
   "execution_count": null,
   "metadata": {},
   "outputs": [],
   "source": [
    "COL_WIDTH = 3\n",
    "def pretty_print(board):\n",
    "    \"\"\" doc string \"\"\"\n",
    "\n",
    "    print('   ', end='') # print the first line (the header line)\n",
    "    for i in range(len(board[0])):\n",
    "        print(f'{i:<{COL_WIDTH}}', end='')\n",
    "    \n",
    "\n",
    "    print('   ' + '-' * (len(board[0]) * COL_WIDTH)) # print the second line, which consists of \"-\"\n",
    "    "
   ]
  },
  {
   "cell_type": "markdown",
   "metadata": {},
   "source": [
    "Verbose Comments that are not high level / abstract enough"
   ]
  },
  {
   "cell_type": "code",
   "execution_count": null,
   "metadata": {},
   "outputs": [],
   "source": [
    "# too verbose\n",
    "COL_WIDTH = 3\n",
    "def pretty_print(board):\n",
    "    \"\"\" doc string \"\"\"\n",
    "\n",
    "    # prints three spaces only, with out printing a new line\n",
    "    print('   ', end='')\n",
    "\n",
    "\n",
    "    # uses a for loop which iterates i to the lengh of the board\n",
    "    for i in range(len(board[0])):\n",
    "        # prints the iterger `i` right justfied which a total lengh of `COL_WIDTH`\n",
    "        print(f'{i:<{COL_WIDTH}}', end='')\n",
    "    \n",
    "    # prints two spaces then the `-`character repeatadly \n",
    "    print('   ' + '-' * (len(board[0]) * COL_WIDTH))\n",
    "    "
   ]
  },
  {
   "cell_type": "markdown",
   "metadata": {},
   "source": [
    "single letter / uninformative variable names"
   ]
  },
  {
   "cell_type": "code",
   "execution_count": null,
   "metadata": {},
   "outputs": [],
   "source": [
    "# wrong\n",
    "a = len(board)\n",
    "b = len(board[0])\n",
    "\n",
    "# right\n",
    "row_number = len(board)\n",
    "column = len(board[0])"
   ]
  },
  {
   "cell_type": "markdown",
   "metadata": {},
   "source": [
    "<h3> Problem 1: quick fire exam practice </h3>\n",
    "\n",
    "Evaluate the following (in pairs):"
   ]
  },
  {
   "cell_type": "code",
   "execution_count": 1,
   "metadata": {},
   "outputs": [
    {
     "data": {
      "text/plain": [
       "1"
      ]
     },
     "execution_count": 1,
     "metadata": {},
     "output_type": "execute_result"
    }
   ],
   "source": [
    "1 if True else 0"
   ]
  },
  {
   "cell_type": "code",
   "execution_count": null,
   "metadata": {},
   "outputs": [],
   "source": [
    "# a\n",
    "strings = ['abc', 'efg', 'hij']\n",
    "new_strings = [e[::-1] for e in strings]\n",
    "\n",
    "# b\n",
    "cubes = [x**3 for x in range(10)]\n",
    "\n",
    "# c\n",
    "nums = [x for x in range(30) if x % 2 == 0 or x % 3 == 0]\n",
    "\n",
    "\n",
    "# d\n",
    "my_dict = {k: list(range(k)) for k in range(10)}\n",
    "\n",
    "# e\n",
    "ascii_codes = list(map(int, 'abcde'))\n",
    "\n",
    "# f\n",
    "def add_one(x):\n",
    "    return x+1\n",
    "\n",
    "numbers = [2,5,3,2]\n",
    "numbers1 = list(map(add_one), numbers)\n",
    "\n",
    "# g\n",
    "numbers2 = [lambda x: x+2, numbers]\n",
    "\n",
    "# g part 2\n",
    "# discuss how to use 'lambda'\n",
    "\n",
    "# h \n",
    "def mystery(number):\n",
    "    if number % 2 == 0:\n",
    "          return True  \n",
    "    return False\n",
    "\n",
    "numbers = [1, 2, 3, 4, 5, 6, 7, 8, 9, 10]\n",
    "special_numbers = list(filter(mystery, numbers))\n",
    "\n",
    "\n",
    "### extension questions ####\n",
    "\n",
    "# i\n",
    "digits = [int(char) if char.isdigit() else \"-\" for char in \"123abc456def\"]\n",
    "\n",
    "# j\n",
    "[(x, y) for x in [1,2,3] for y in [3,1,4] if x != y]\n",
    "\n",
    "# k\n",
    "matrix = [[1, 2, 3], [4, 5, 6], [7, 8, 9]]\n",
    "flattened = [num for row in matrix for num in row]\n",
    "\n",
    "# l\n",
    "keys = [1,2,3]\n",
    "values = [1,4,9]\n",
    "my_dict = {k:v for k,v in zip(keys, values)}"
   ]
  },
  {
   "cell_type": "markdown",
   "metadata": {},
   "source": [
    "<h3> Problem 3 </h3>\n",
    "\n",
    "(a) Rewrite the following code using a default dict. Add comments and a doc string\n",
    "\n",
    "(b) Can you find an even more concise way to write it?"
   ]
  },
  {
   "cell_type": "code",
   "execution_count": null,
   "metadata": {},
   "outputs": [],
   "source": [
    "def count_letters(input_string):\n",
    "    letter_count = {}\n",
    "\n",
    "    for char in input_string:\n",
    "\n",
    "        char = char.lower()\n",
    "\n",
    "        if char.isalpha():\n",
    "            if char in letter_count:\n",
    "                letter_count[char] += 1\n",
    "            else:\n",
    "\n",
    "                letter_count[char] = 1\n",
    "\n",
    "    return letter_count"
   ]
  },
  {
   "cell_type": "markdown",
   "metadata": {},
   "source": []
  }
 ],
 "metadata": {
  "kernelspec": {
   "display_name": "Python 3",
   "language": "python",
   "name": "python3"
  },
  "language_info": {
   "codemirror_mode": {
    "name": "ipython",
    "version": 3
   },
   "file_extension": ".py",
   "mimetype": "text/x-python",
   "name": "python",
   "nbconvert_exporter": "python",
   "pygments_lexer": "ipython3",
   "version": "3.9.6"
  }
 },
 "nbformat": 4,
 "nbformat_minor": 2
}
