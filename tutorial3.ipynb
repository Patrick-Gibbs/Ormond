{
 "cells": [
  {
   "cell_type": "markdown",
   "metadata": {},
   "source": [
    "<h3> Problem 1: quick fire exam practice </h3>\n",
    "\n",
    "Evaluate the following:"
   ]
  },
  {
   "cell_type": "code",
   "execution_count": null,
   "metadata": {},
   "outputs": [],
   "source": [
    "\n",
    "# 1\n",
    "for i in range(10):\n",
    "    print(i)\n",
    "\n",
    "# 2\n",
    "for i in range(10):\n",
    "    for j in range(10):\n",
    "        print(i+j)\n",
    "\n",
    "\n",
    "# 3\n",
    "animals = ['cat', 'dog', 'cow', 'pig']\n",
    "\n",
    "for i in range(0, len(animals) - 1):\n",
    "    print(animals[i] + animals[i+1])\n",
    "\n",
    "# 4\n",
    "cycles = 10\n",
    "i = 0\n",
    "while cycles:\n",
    "    print(animals[i])\n",
    "    i += 1\n",
    "    cycles -= 1\n",
    "    if i == len(animals):\n",
    "        i = 0\n",
    "\n",
    "# 5 \n",
    "for animal in animals:\n",
    "    print(animal[::-1] + animal)\n",
    "\n",
    "\n",
    "# 6\n",
    "animals = ['cat', 'dog', 'cow', 'pig', 'cat', 'dog', 'cat', 'cow', 'pig', 'pig']\n",
    "num_cats = 0\n",
    "for animal in animals:\n",
    "    if animal == 'cat':\n",
    "        num_cats += 1\n",
    "print(f'there are {num_cats} cats in the list')\n",
    "\n"
   ]
  },
  {
   "cell_type": "markdown",
   "metadata": {},
   "source": [
    "<h3> Problem 2 </h3>\n",
    "\n",
    "choose some of the above expression, and convert from a for loop to a while loop, or vise versa\n"
   ]
  },
  {
   "cell_type": "markdown",
   "metadata": {},
   "source": [
    "<h3> Problem 3 </h3>\n",
    "\n",
    "(a) Write a program to display all prime numbers within a range\n",
    "\n",
    "e.g. input:\n",
    "```\n",
    "# range\n",
    "start = 25\n",
    "end = 50\n",
    "```\n",
    "output\n",
    "```\n",
    "Prime numbers between 25 and 50 are:\n",
    "29\n",
    "31\n",
    "37\n",
    "41\n",
    "43\n",
    "47\n",
    "```\n",
    "\n",
    "(b)\n",
    "\n",
    "write a program that prints the following pattern\n",
    "```\n",
    "5 4 3 2 1 \n",
    "4 3 2 1 \n",
    "3 2 1 \n",
    "2 1 \n",
    "1\n",
    "```"
   ]
  }
 ],
 "metadata": {
  "kernelspec": {
   "display_name": "Python 3",
   "language": "python",
   "name": "python3"
  },
  "language_info": {
   "codemirror_mode": {
    "name": "ipython",
    "version": 3
   },
   "file_extension": ".py",
   "mimetype": "text/x-python",
   "name": "python",
   "nbconvert_exporter": "python",
   "pygments_lexer": "ipython3",
   "version": "3.10.9"
  }
 },
 "nbformat": 4,
 "nbformat_minor": 2
}
