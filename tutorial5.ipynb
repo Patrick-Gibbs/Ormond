{
 "cells": [
  {
   "cell_type": "markdown",
   "metadata": {},
   "source": [
    "<h3> MST toolkit <h3>\n",
    "\n",
    "In the mst you are likely going to need to write some one-line python expressions that to find a value / test a condition. Here are some python functions that we have learnt so far that might be useful.\n"
   ]
  },
  {
   "cell_type": "code",
   "execution_count": null,
   "metadata": {},
   "outputs": [],
   "source": [
    "#######################\n",
    "# sorting / max / min #\n",
    "#######################\n",
    "\n",
    "numbers = [1,1,2,2]\n",
    "\n",
    "# sorts lowest to highest\n",
    "result = sorted(numbers)\n",
    "\n",
    "# sorts highest to lowest\n",
    "result = sorted(numbers)[::-1]\n",
    "result = sorted(numbers, reverse=True)\n",
    "\n",
    "# finds the largest number\n",
    "largest = sorted(numbers)[-1]\n",
    "largest = max(numbers)\n",
    "\n",
    "# finds the smallest number\n",
    "smallest = sorted(numbers)[0]\n",
    "smallest = min(numbers)\n",
    "\n",
    "# tests if all the numbers are the same\n",
    "same = max(numbers) == min(numbers)\n",
    "\n",
    "# finds the difference between the largest / smallest numer\n",
    "dif = max(numbers) - min(numbers)\n",
    "\n",
    "##############\n",
    "# using sets #\n",
    "##############\n",
    "# remember that a set is an like a list, but only contain unique elements\n",
    "\n",
    "\n",
    "# finds the number of unqiue numbers in a set\n",
    "uniq = len(set(numbers))\n",
    "\n",
    "# tests if list of numbers contain only one number\n",
    "same == len(set(numbers)) == 1\n",
    "\n",
    "numbers1 = [1,1,2,2]\n",
    "numbers2 = [3,3,3,2]\n",
    "\n",
    "# finds the number of numbers that are in `numbers1` and not in `numbers2`\n",
    "uniq_to_num1 = len(set(numbers1) - set(numbers2))\n",
    "\n",
    "# finds all unique numbers between `numbers1` and `numbers2` as a list\n",
    "union = len(set(numbers1 + numbers2))"
   ]
  },
  {
   "cell_type": "markdown",
   "metadata": {},
   "source": [
    "<h3> MST exercises </h3>\n",
    "\n",
    "(the following are suggestions about good ways to prepair for the MST one liners section)\n",
    "\n",
    "(a) copy out / run / try to internlise the above tricks / tools\n",
    "\n",
    "(b) using the tricks / tools above, write your own one liner questions that can be solved by them\n",
    "\n",
    "(c) go through all the past tutoral/workshop sheets (provided by unimeb not my ones), and for each method/function/technique shown, write a one liner question that utilises it in the solution.\n",
    "\n",
    "(d) do the same going through grok / the lecture slides.\n",
    "\n",
    "\n",
    "<h3> Other things to do (no particular order) </h3>\n",
    "\n",
    "(a) do every past MST\n",
    "\n",
    "(b) do all the exercises I have written (first using pen and paper rather than code)\n",
    "\n",
    "(c) make sure you up to date on grok"
   ]
  }
 ],
 "metadata": {
  "language_info": {
   "name": "python"
  }
 },
 "nbformat": 4,
 "nbformat_minor": 2
}
