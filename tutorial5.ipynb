{
 "cells": [
  {
   "cell_type": "markdown",
   "metadata": {},
   "source": [
    "<h3> MST toolkit </h3>\n",
    "\n",
    "In the mst you are likely going to need to write some one-line python expressions that to find a value / test a condition. Here are some python functions that we have learnt so far that might be useful.\n"
   ]
  },
  {
   "cell_type": "code",
   "execution_count": 12,
   "metadata": {},
   "outputs": [],
   "source": [
    "#######################\n",
    "# sorting / max / min #\n",
    "#######################\n",
    "\n",
    "numbers = [1,1,2,2]\n",
    "\n",
    "# sorts lowest to highest\n",
    "result = sorted(numbers)\n",
    "\n",
    "# sorts highest to lowest\n",
    "result = sorted(numbers)[::-1]\n",
    "result = sorted(numbers, reverse=True)\n",
    "\n",
    "# finds the largest number\n",
    "largest = sorted(numbers)[-1]\n",
    "largest = max(numbers)\n",
    "\n",
    "# finds the smallest number\n",
    "smallest = sorted(numbers)[0]\n",
    "smallest = min(numbers)\n",
    "\n",
    "# tests if all the numbers are the same\n",
    "same = max(numbers) == min(numbers)\n",
    "\n",
    "# finds the difference between the largest / smallest numer\n",
    "dif = max(numbers) - min(numbers)\n",
    "\n",
    "##############\n",
    "# using sets #\n",
    "##############\n",
    "# remember that a set is an like a list, but only contain unique elements\n",
    "\n",
    "# finds the number of unqiue numbers in a set\n",
    "uniq = len(set(numbers))\n",
    "\n",
    "# tests if list of numbers contain only one number\n",
    "same == len(set(numbers)) == 1\n",
    "\n",
    "numbers1 = [1,1,2,2]\n",
    "numbers2 = [3,3,3,2]\n",
    "\n",
    "# finds the number of numbers that are in `numbers1` and not in `numbers2`\n",
    "uniq_to_num1 = len(set(numbers1) - set(numbers2))\n",
    "\n",
    "# finds all unique numbers between `numbers1` and `numbers2` as a list\n",
    "union = list(set(numbers1 + numbers2))\n",
    "\n",
    "\n",
    "#############\n",
    "# using sum #\n",
    "#############\n",
    "\n",
    "# finds the sum of a list of numbers\n",
    "sum_numbers = sum(numbers)\n",
    "\n",
    "# finds the sum of all the unique numbers in a list\n",
    "sum_uniqu = sum(set(numbers))\n",
    "\n"
   ]
  },
  {
   "cell_type": "markdown",
   "metadata": {},
   "source": [
    "<h3> MST exercises </h3>\n",
    "\n",
    "(the following are suggestions about good ways to prepair for the MST one liners section)\n",
    "\n",
    "(a) copy out / run / try to internlise the above tricks / tools\n",
    "\n",
    "(b) using the tricks / tools above, write your own one liner questions that can be solved by them\n",
    "\n",
    "(c) go through all the past tutoral/workshop sheets (provided by unimeb not my ones), and for each method/function/technique shown, write a one liner question that utilises it in the solution.\n",
    "\n",
    "(d) do the same going through grok / the lecture slides.\n",
    "\n",
    "\n",
    "<h3> Other things to do (no particular order) </h3>\n",
    "\n",
    "(a) do every past MST\n",
    "\n",
    "(b) do all the exercises I have written (first using pen and paper rather than code)\n",
    "\n",
    "(c) make sure you up to date on grok\n",
    "\n",
    "(d) do these with a friend!"
   ]
  },
  {
   "cell_type": "markdown",
   "metadata": {},
   "source": [
    "<h3> MST 2024 s1 solutions </h3>\n",
    "\n",
    "<h4> Question 1, evaluate the following: </h4>\n",
    "\n",
    "(a) `18 // 5 * 5 + 3`\n",
    "\n",
    "   => `18`\n",
    "   \n",
    "---   \n",
    "*Explaination:*\n",
    "- Operations in parentheses are resolved first, moving from left to right.\n",
    "- `**` is resolved second, moving from left to right\n",
    "- `*`, `/`, `//` and `%` are resolved third, moving from left to right.\n",
    "- `+` and `-` are resolved fourth, moving from left to right.\n",
    "\n",
    "\n",
    "`18 // 5 * 5 + 3`\n",
    "\n",
    "`((18 // 5) * 5) + 3`\n",
    "\n",
    "`(3 * 5) + 3`\n",
    "\n",
    "`18`\n",
    "\n",
    "---\n",
    "\n",
    "(b) `5 * (3,)`\n",
    "\n",
    "`(3, 3, 3, 3, 3)`\n",
    "\n",
    "---   \n",
    "*Explaination:*\n",
    "we treat `(3,)` as a tuple \n",
    "\n",
    "---\n",
    "\n",
    "(c)\n",
    "\n",
    "`min({True :1, False: 10}`\n",
    "\n",
    "=> `Error` (missed bracket)\n",
    "\n",
    "Assuming that was a typo\n",
    "\n",
    "`min({True :1, False: 10})`\n",
    "\n",
    "=> `False`\n",
    "\n",
    "---\n",
    "*Explaination:*\n",
    "\n",
    "`min` calls on the keys of the dict. We note that `False` < `True`. A good way to think of this is `False` is like zero, and `True` is like one.\n",
    "\n",
    "---\n",
    "\n",
    "\n",
    "(d)\n",
    "\n",
    "`[1,2] * (2 == 2)`\n",
    "\n",
    "=> `[1,2]`\n",
    "\n",
    "---\n",
    "*Explaination:*\n",
    "\n",
    "`(2==2)` => `True`\n",
    "\n",
    "remmember that `True` ~ `1`\n",
    "\n",
    "so this casts to \n",
    "\n",
    "`[1,2] * 1`\n",
    "\n",
    "---\n",
    "\n",
    "\n",
    "\n",
    "<h4> Question 2 </h4>\n",
    "\n",
    "Suppose that nums is a non-empty list of integers. Give a single Python statement that assigns True to nice if the difference between the largest and smallest values in nums is an even number and False otherwise.\n",
    "\n",
    "`nice = (max(nums) - min(nums)) % 2 == 0`\n",
    "\n",
    "\n",
    "\n",
    "<h4> Question 3 </h4>\n",
    "\n",
    "Suppose that str1 and str2 are Python strings each containing at least one character. Give a single Python assignment statement that assigns to chars a list of all characters that appear in either string. Duplicate characters should be retained. For example, if `str1 = ‘ab’` and `str2 = ‘bb’` then chars should equal `[‘a’, ‘b’, ‘b’, ‘b’]`\n",
    "\n",
    "`chars = list(str1 + str2)`\n",
    "\n",
    "\n",
    "<h4> Question 4 </h4>\n",
    "\n",
    "`common = len(set(str1) & set(str2))`\n",
    " \n",
    "<h4> Question 5 </h4>\n",
    "\n",
    "`sums_firsts = int(str(num[0])[0])) + int(str(num[1])[0])`\n",
    "\n",
    "\n",
    "<h4> Question 6 </h4>\n",
    "\n",
    "Write a Python function between brackets(text) that takes a (possibly empty) Python string text and returns a (possibly empty) list of substrings that are between matching pairs of round brackets. Bracket pairs that do not contain any characters or contain only whitespace should be ignored. You may assume all brackets are correctly matched in text, that is, a \"(\" character will always be paired with a \")\" somewhere to its right, and there will be no nested brackets.\n",
    "\n",
    "Here are three possible execution sequences:\n",
    "\n",
    "```\n",
    ">>> between_brackets(\"Foundations of Computing (FoC) is fun, we hope!\")\n",
    "    [’FoC’]\n",
    ">>> between_brackets(\"There may be no bracket pairs...\")\n",
    "    []\n",
    ">>> between_brackets(\"...or many: (quick) () (brown fo)x jum(p)s (   )\")\n",
    "    [’quick’, ’brown fo’, ’p’]\n",
    "```"
   ]
  },
  {
   "cell_type": "code",
   "execution_count": 11,
   "metadata": {},
   "outputs": [
    {
     "name": "stdout",
     "output_type": "stream",
     "text": [
      "['FoC']\n",
      "[]\n",
      "['quick', 'brown fo', 'p']\n"
     ]
    }
   ],
   "source": [
    "def between_brackets(text):\n",
    "    bra_open = False\n",
    "    running_in_bra = []\n",
    "    in_bra = []\n",
    "    for letter in text:\n",
    "        # bracket opens\n",
    "        if letter == '(':\n",
    "            bra_open = True\n",
    "            in_bra = []\n",
    "            continue\n",
    "        \n",
    "\n",
    "        # close bracket \n",
    "        if letter == ')':\n",
    "            bra_open = False\n",
    "            # only add if not empty and isn't only white space \n",
    "            if in_bra and in_bra != [' ']*len(in_bra):\n",
    "                running_in_bra.append(''.join(in_bra))\n",
    "            \n",
    "        # add letter if bracket is open\n",
    "        if bra_open:\n",
    "           in_bra.append(letter)\n",
    "       \n",
    "    return running_in_bra\n",
    "\n",
    "\n",
    "print(between_brackets(\"Foundations of Computing (FoC) is fun, we hope!\"))\n",
    "print(between_brackets(\"There may be no bracket pairs...\"))\n",
    "print(between_brackets(\"...or many: (quick) () (brown fo)x jum(p)s (   )\"))"
   ]
  },
  {
   "cell_type": "code",
   "execution_count": 18,
   "metadata": {},
   "outputs": [
    {
     "data": {
      "text/plain": [
       "{1, 2, 3, 4}"
      ]
     },
     "execution_count": 18,
     "metadata": {},
     "output_type": "execute_result"
    }
   ],
   "source": [
    "set([1,1,1,2,2,3,3])\n",
    "s1 = {1, 2, 3}\n",
    "s2 = {2,3,4}\n",
    "\n",
    "s1 & (s2)\n",
    "s1 | (s2)"
   ]
  },
  {
   "cell_type": "code",
   "execution_count": 22,
   "metadata": {},
   "outputs": [
    {
     "name": "stdout",
     "output_type": "stream",
     "text": [
      "[['a', 'b', 'c', 'c']]\n"
     ]
    }
   ],
   "source": [
    "chars = []\n",
    "chars.append(list('ab' + 'cc'))\n",
    "print(chars)"
   ]
  },
  {
   "cell_type": "code",
   "execution_count": 25,
   "metadata": {},
   "outputs": [
    {
     "data": {
      "text/plain": [
       "1"
      ]
     },
     "execution_count": 25,
     "metadata": {},
     "output_type": "execute_result"
    }
   ],
   "source": [
    "int(str(1000)[0])"
   ]
  },
  {
   "cell_type": "code",
   "execution_count": 39,
   "metadata": {},
   "outputs": [
    {
     "name": "stdout",
     "output_type": "stream",
     "text": [
      "a\n",
      "b\n"
     ]
    },
    {
     "data": {
      "text/plain": [
       "('a', 1)"
      ]
     },
     "execution_count": 39,
     "metadata": {},
     "output_type": "execute_result"
    }
   ],
   "source": [
    "for let in {'a':1,'b':2}:\n",
    "    print(let)\n",
    "\n",
    "min({'a':1,'b':2}.items())"
   ]
  },
  {
   "cell_type": "code",
   "execution_count": 37,
   "metadata": {},
   "outputs": [
    {
     "data": {
      "text/plain": [
       "{'a': 2}"
      ]
     },
     "execution_count": 37,
     "metadata": {},
     "output_type": "execute_result"
    }
   ],
   "source": [
    "{'a':1,'b':2}"
   ]
  },
  {
   "cell_type": "code",
   "execution_count": 41,
   "metadata": {},
   "outputs": [
    {
     "ename": "TypeError",
     "evalue": "unsupported operand type(s) for +: 'set' and 'set'",
     "output_type": "error",
     "traceback": [
      "\u001b[0;31m---------------------------------------------------------------------------\u001b[0m",
      "\u001b[0;31mTypeError\u001b[0m                                 Traceback (most recent call last)",
      "Cell \u001b[0;32mIn[41], line 1\u001b[0m\n\u001b[0;32m----> 1\u001b[0m \u001b[43m{\u001b[49m\u001b[38;5;241;43m1\u001b[39;49m\u001b[43m}\u001b[49m\u001b[43m \u001b[49m\u001b[38;5;241;43m+\u001b[39;49m\u001b[43m \u001b[49m\u001b[43m{\u001b[49m\u001b[38;5;241;43m2\u001b[39;49m\u001b[43m}\u001b[49m\n",
      "\u001b[0;31mTypeError\u001b[0m: unsupported operand type(s) for +: 'set' and 'set'"
     ]
    }
   ],
   "source": [
    "{1} + {2}"
   ]
  }
 ],
 "metadata": {
  "kernelspec": {
   "display_name": "Python 3",
   "language": "python",
   "name": "python3"
  },
  "language_info": {
   "codemirror_mode": {
    "name": "ipython",
    "version": 3
   },
   "file_extension": ".py",
   "mimetype": "text/x-python",
   "name": "python",
   "nbconvert_exporter": "python",
   "pygments_lexer": "ipython3",
   "version": "3.10.9"
  }
 },
 "nbformat": 4,
 "nbformat_minor": 2
}
