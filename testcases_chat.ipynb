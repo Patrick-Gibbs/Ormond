{
 "cells": [
  {
   "cell_type": "code",
   "execution_count": null,
   "metadata": {},
   "outputs": [],
   "source": [
    "# test case 1\n",
    "lawn = [\n",
    "    ['-', '+', '+'],\n",
    "    ['-', '-', '-']\n",
    "]\n",
    "\n",
    "path = [(0,1), (0,2)]\n",
    "\n",
    "# call\n",
    "after_mowing(lawn, path)\n",
    "\n",
    "# expected output\n",
    "[\n",
    "    ['-', '-', '-'],\n",
    "    ['-', '-', '-']\n",
    "]"
   ]
  },
  {
   "cell_type": "code",
   "execution_count": null,
   "metadata": {},
   "outputs": [],
   "source": [
    "# test case 2\n",
    "lawn = [\n",
    "    ['-', '+', '+'],\n",
    "    ['-', '-', '-']\n",
    "]\n",
    "\n",
    "path = [(1,1), (0,0)]\n",
    "\n",
    "# call\n",
    "after_mowing(lawn, path)\n",
    "\n",
    "# expected output\n",
    "None"
   ]
  },
  {
   "cell_type": "code",
   "execution_count": null,
   "metadata": {},
   "outputs": [],
   "source": [
    "# test case 2\n",
    "lawn = [\n",
    "    ['-', '+', '+'],\n",
    "    ['-', '-', '-']\n",
    "]\n",
    "\n",
    "path = [(0,0), (0,1)]\n",
    "\n",
    "# call\n",
    "after_mowing(lawn, path)\n",
    "\n",
    "# expected output\n",
    "lawn = [\n",
    "    ['-', '-', '+'],\n",
    "    ['-', '-', '-']\n",
    "]"
   ]
  },
  {
   "cell_type": "code",
   "execution_count": null,
   "metadata": {},
   "outputs": [],
   "source": [
    "# test case 2\n",
    "lawn = [\n",
    "    ['-', '+', '+'],\n",
    "    ['-', '-', '-']\n",
    "]\n",
    "\n",
    "path = [(0,0), (1,0), (2,0)]\n",
    "\n",
    "# call\n",
    "after_mowing(lawn, path)\n",
    "\n",
    "# expected output\n",
    "None"
   ]
  }
 ],
 "metadata": {
  "language_info": {
   "name": "python"
  }
 },
 "nbformat": 4,
 "nbformat_minor": 2
}
