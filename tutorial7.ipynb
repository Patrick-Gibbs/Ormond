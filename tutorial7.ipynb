{
 "cells": [
  {
   "cell_type": "markdown",
   "metadata": {},
   "source": [
    "For each of the following spot the Errors, classify them as:\n",
    "- runtime errors\n",
    "- logical errors\n",
    "- syntax errors"
   ]
  },
  {
   "cell_type": "code",
   "execution_count": null,
   "metadata": {},
   "outputs": [],
   "source": [
    "# a\n",
    "def fibonacci(n):\n",
    "    sequence = [0, 1]\n",
    "    for i in range(2, n)\n",
    "        sequence[i] = sequence[i-1] + sequence[i-2]\n",
    "    return sequence\n",
    "\n",
    "n = int(input(\"Enter the number of terms: \"))\n",
    "fib_sequence = fibonacci(n)\n",
    "print(\"Fibonacci sequence:\", fib_sequence)"
   ]
  },
  {
   "cell_type": "code",
   "execution_count": null,
   "metadata": {},
   "outputs": [],
   "source": [
    "# b \n",
    "numbers = input(\"Enter a list of numbers separated by spaces: \").split()\n",
    "max_num = numbers[0]\n",
    "\n",
    "for num in numbers:\n",
    "    if num > max_num:\n",
    "        max_num = num\n",
    "\n",
    "print(\"The largest number is:\", max_num)"
   ]
  },
  {
   "cell_type": "markdown",
   "metadata": {},
   "source": [
    "\n",
    "<h3> Problem 1: Using files </h3>\n",
    "\n",
    "In this directory you can find `all_english_words.txt`. Take a look at it.\n",
    "\n",
    "(a) In python using this file find:\n",
    "\n",
    "- The longest word in the english language\n",
    "- The shortest word in the english langauge\n",
    "- The word with the most vowels \n",
    "\n",
    "(b) Target is common newspaper word game: https://www.smh.com.au/national/target-time-and-superquiz-tuesday-may-11-20210510-p57qmb.html\n",
    "\n",
    "Users are given a grid such as the following:\n",
    "```\n",
    "    -------------\n",
    "    | O | P | Q |\n",
    "    | E | B | E |\n",
    "    | R | T | R |\n",
    "    -------------\n",
    "```\n",
    "\n",
    "The player must find as words of four letters or more\n",
    "- Every word must include the centre letter and each letter is used once only. \n",
    "- Find at least one nine-letter word. No colloquial or foreign words, nouns, apostrophes or hyphens. \n",
    "-  No verbs or plural words ending in \"s\". Solution list is not exhaustive.\n",
    "\n",
    "\n",
    "Write a program to play Target"
   ]
  },
  {
   "cell_type": "markdown",
   "metadata": {},
   "source": [
    "<h3> Problem 2: Files using JSON </h3>\n",
    "\n",
    "Attached in the github is `departments.json` which contains a database for an imagned company.\n",
    "\n",
    "This can be loaded into python as follows\n",
    "\n",
    "```\n",
    "import json\n",
    "data = json.load(open('departments.json'), 'r')\n",
    "```\n",
    "\n",
    "Find:\n",
    "...\n",
    "\n",
    "\n",
    "\n"
   ]
  },
  {
   "cell_type": "markdown",
   "metadata": {},
   "source": [
    "<h3> Hello Jayden </h3>"
   ]
  },
  {
   "cell_type": "code",
   "execution_count": null,
   "metadata": {},
   "outputs": [],
   "source": []
  }
 ],
 "metadata": {
  "kernelspec": {
   "display_name": "Python 3",
   "language": "python",
   "name": "python3"
  },
  "language_info": {
   "name": "python",
   "version": "3.10.9"
  }
 },
 "nbformat": 4,
 "nbformat_minor": 2
}
